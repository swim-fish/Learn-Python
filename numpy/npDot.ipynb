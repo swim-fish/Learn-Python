{
 "cells": [
  {
   "cell_type": "code",
   "execution_count": null,
   "metadata": {},
   "outputs": [],
   "source": [
    "# DOT\n",
    "import numpy as np\n",
    "\n",
    "x = np.array([[1, 2],[3, 4]])\n",
    "y = np.array([[5, 6],[7, 8]])\n",
    "\n",
    "v = np.array([9, 10])\n",
    "w = np.array([11, 12])\n",
    "\n",
    "# Inner product of vectors\n",
    "print (v.dot(w)) # 219\n",
    "print (np.dot(v, w)) # 219\n",
    "\n",
    "# Matrix / vector product\n",
    "print (x.dot(v)) # [29 67]\n",
    "print (np.dot(x, v)) # [29 67]\n",
    "print (v.dot(x)) # [39 58]\n",
    "\n",
    "# Matrix / matrix product; both produce the rank 2 array\n",
    "print (x.dot(y))\n",
    "print (np.dot(x, y))\n",
    "# [[19 22]\n",
    "#  [43 50]]\n",
    "\n",
    "# Elementwise * and Broadcasting, are different from dot\n",
    "print (x*y) # element-wise *\n",
    "print (x*v) # broadcasting\n",
    "\n",
    "a = np.arange(12).reshape(3,4)\n",
    "b = np.arange(12).reshape(4,3)\n",
    "print (a.dot(b))\n",
    "b = np.arange(12).reshape(3,4)\n",
    "print (a.dot(b)) # ERROR"
   ]
  }
 ],
 "metadata": {},
 "nbformat": 4,
 "nbformat_minor": 2
}
