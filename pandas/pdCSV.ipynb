{
 "cells": [
  {
   "cell_type": "code",
   "execution_count": null,
   "metadata": {},
   "outputs": [],
   "source": [
    "import pandas as pd\n",
    "\n",
    "ff = pd.read_csv(\"fruitTitle.csv\", \n",
    "                  header=0,\n",
    "                  names=[\"name\", \"price\", \"quantity\"],\n",
    "                  index_col=0,\n",
    "                  sep=\",\", \n",
    "#                  thousands=\",\"\n",
    "                  )\n",
    "print(ff)\n",
    "print (ff.columns)\n",
    "ff.describe()\n",
    "\n",
    "# Statistics\n",
    "f2 = ff.filter(items=['price', 'quantity'])\n",
    "print (f2)\n",
    "\n",
    "print (f2.mean())\n",
    "print (f2.std())\n",
    "print (f2.describe())\n"
   ]
  }
 ],
 "metadata": {},
 "nbformat": 4,
 "nbformat_minor": 2
}
