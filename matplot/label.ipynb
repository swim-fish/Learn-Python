{
 "cells": [
  {
   "cell_type": "code",
   "execution_count": null,
   "metadata": {},
   "outputs": [],
   "source": [
    "import matplotlib.pyplot as plt\n",
    "import numpy as np\n",
    "\n",
    "x = np.linspace(25, 50, 100)\n",
    "y = 2*x + 1\n",
    "\n",
    "# using lim and label\n",
    "plt.figure()\n",
    "plt.title('demo xlim and xlabel')\n",
    "plt.plot(x, y)\n",
    "plt.xlim(20, 60)\n",
    "plt.ylim(40, 120)\n",
    "plt.xlabel(\"age\")\n",
    "plt.ylabel(\"week spend\")\n",
    "plt.savefig('images/label.png')\n",
    "\n",
    "# using ticks\n",
    "plt.figure()\n",
    "plt.figure()\n",
    "plt.title('demo ticks')\n",
    "plt.plot(x, y)\n",
    "plt.xlim(20, 60)\n",
    "plt.ylim(40, 120)\n",
    "plt.xlabel(\"age\")\n",
    "plt.ylabel(\"week spend\")\n",
    "age_ticks = np.linspace(25, 50, 5)\n",
    "plt.xticks(age_ticks)\n",
    "plt.yticks([50, 75, 100],\n",
    "           [\"eco\", \"normal\", \"waste\"])\n",
    "plt.savefig('images/ticks.png')\n"
   ]
  }
 ],
 "metadata": {},
 "nbformat": 4,
 "nbformat_minor": 2
}
