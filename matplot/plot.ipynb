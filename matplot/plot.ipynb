{
 "cells": [
  {
   "cell_type": "code",
   "execution_count": null,
   "metadata": {},
   "outputs": [],
   "source": [
    "import matplotlib.pyplot as plt\n",
    "import numpy as np\n",
    "\n",
    "# Example 1\n",
    "plt.plot([1,2,3,4], [2,5,9,12])\n",
    "plt.show()\n",
    "\n",
    "# Example 2\n",
    "x = np.linspace(-1, 1, 100)\n",
    "y = x**2\n",
    "plt.plot(x, y)\n",
    "plt.show()\n",
    "\n",
    "# Example 3- add title\n",
    "plt.title('plot demo')\n",
    "plt.plot(x, y)\n",
    "plt.plot(x, x**3 - 0.5)\n",
    "plt.grid()\n",
    "plt.show()\n",
    "plt.savefig('images/plot.png')\n",
    "\n",
    "# Example 4- use subplots()\n",
    "fig, ax = plt.subplots()\n",
    "ax.plot(x, y)\n",
    "\n",
    "fig, ax = plt.subplots()\n",
    "ax.plot(x, y)"
   ]
  }
 ],
 "metadata": {},
 "nbformat": 4,
 "nbformat_minor": 2
}
