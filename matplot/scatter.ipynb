{
 "cells": [
  {
   "cell_type": "code",
   "execution_count": null,
   "metadata": {},
   "outputs": [],
   "source": [
    "import matplotlib.pyplot as plt\n",
    "import numpy as np\n",
    "\n",
    "n = 1000    # data size\n",
    "X = np.random.normal(0, 1, n)\n",
    "Y = np.random.normal(0, 1, n)\n",
    "\n",
    "plt.title('Demo scatter')\n",
    "plt.subplot(221)\n",
    "plt.scatter(X, Y, s=30, alpha=.5)\n",
    "plt.subplot(222)\n",
    "plt.scatter(X, Y, s=3, alpha=.5)\n",
    "plt.subplot(223)\n",
    "plt.scatter(X, Y, s=3, alpha=.1)\n",
    "plt.subplot(224)\n",
    "plt.scatter(X, Y, s=3, alpha=1)\n",
    "\n",
    "# s: size\n",
    "# alpah: 透明度\n",
    "\n",
    "#plt.show()\n",
    "plt.savefig('images/scatter.png')"
   ]
  }
 ],
 "metadata": {},
 "nbformat": 4,
 "nbformat_minor": 2
}
