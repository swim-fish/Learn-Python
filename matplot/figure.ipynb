{
 "cells": [
  {
   "cell_type": "code",
   "execution_count": null,
   "metadata": {},
   "outputs": [],
   "source": [
    "import matplotlib.pyplot as plt\n",
    "import numpy as np\n",
    "\n",
    "x = np.linspace(-1, 1, 100)\n",
    "y = x**3\n",
    "\n",
    "# first figure\n",
    "plt.figure(num=1, facecolor='red',figsize=(4,4))\n",
    "    # num: figure id\n",
    "    # facecolor: colore of the face \n",
    "    # figsize: size fo the figure\n",
    "\n",
    "plt.title('face color')\n",
    "plt.plot(x, y)\n",
    "plt.savefig('images/figure1.png')\n",
    "\n",
    "# second figure\n",
    "plt.figure(num=2, figsize=(5,5))\n",
    "plt.title('color, linewidth demo')\n",
    "plt.plot(x, y, linewidth=10, color='y')\n",
    "plt.plot(x, -1 * y)\n",
    "plt.savefig('images/figure2.png')"
   ]
  }
 ],
 "metadata": {},
 "nbformat": 4,
 "nbformat_minor": 2
}
