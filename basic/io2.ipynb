{
 "cells": [
  {
   "cell_type": "code",
   "execution_count": null,
   "metadata": {},
   "outputs": [],
   "source": [
    "# print to a file\n",
    "\n",
    "f = open('output/io2.txt', 'w+')\n",
    "print ('Hello world!', file=f)\n",
    "\n",
    "f.close()"
   ]
  }
 ],
 "metadata": {},
 "nbformat": 4,
 "nbformat_minor": 2
}
