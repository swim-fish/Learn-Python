{
 "cells": [
  {
   "cell_type": "code",
   "execution_count": null,
   "metadata": {},
   "outputs": [],
   "source": [
    "# and\n",
    "if (isPrime and isSmall):\n",
    "    print ()\n",
    "# or \n",
    "if (isStudent or isKid):\n",
    "    print ()\n",
    "# not\n",
    "if not(isStudent or isKid):\n",
    "    print ()\n",
    "\n",
    "# 比較運算元\n",
    "== 等於\n",
    ">= 大於等於\n",
    "!= 不等於\n",
    "\n",
    "# 成員（membership）: in, not in\n",
    "x = 100; grade = [12, 45, 90]\n",
    "x in grade\n",
    ">> False\n",
    "x not in grade\n",
    ">> True"
   ]
  }
 ],
 "metadata": {},
 "nbformat": 4,
 "nbformat_minor": 2
}
