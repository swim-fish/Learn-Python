{
 "cells": [
  {
   "cell_type": "code",
   "execution_count": null,
   "metadata": {},
   "outputs": [],
   "source": [
    "a = [1,2,3]\n",
    "b = [1,2,3]\n",
    "a is b\n",
    ">> False\n",
    "a is not b\n",
    ">> True\n",
    "\n",
    "c = a\n",
    "c is a\n",
    ">> True\n"
   ]
  }
 ],
 "metadata": {},
 "nbformat": 4,
 "nbformat_minor": 2
}
