{
 "cells": [
  {
   "cell_type": "code",
   "execution_count": null,
   "metadata": {},
   "outputs": [],
   "source": [
    "# using CSV modules\n",
    "\n",
    "import csv\n",
    "def dataProcess():\n",
    "    \"\"\"\n",
    "    read grade from csv file and package into a sorted list\n",
    "    @return list of name, grade of each subject, average (sort by average)\n",
    "    \"\"\"\n",
    "    # ID, eng, math, phy\n",
    "    f = open('grade2.csv', 'r')    \n",
    "    student = []\n",
    "    grades=[]\n",
    "    for student in csv.reader(f): # read one line\n",
    "        sum = 0\n",
    "        name = student[0]\n",
    "        eng = int(student[1])\n",
    "        math = int(student[2])\n",
    "        phy = int(student[3])\n",
    "        sum += eng + math + phy\n",
    "        avg = round(float(sum)/3, 2)\n",
    "        grades.append([name, [eng, math, phy], avg])\n",
    "\n",
    "    f.close()\n",
    "    # 依據平均做漸增排序\n",
    "    sortedGrade = sorted(grades, key=lambda x: x[-1], reverse=True)    \n",
    "    return sortedGrade\n",
    "\n",
    "g = dataProcess()\n",
    "for e in g:\n",
    "    print (e)"
   ]
  }
 ],
 "metadata": {},
 "nbformat": 4,
 "nbformat_minor": 2
}
