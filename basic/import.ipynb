{
 "cells": [
  {
   "cell_type": "code",
   "execution_count": null,
   "metadata": {},
   "outputs": [],
   "source": [
    "#\n",
    "# IMPORTS \n",
    "#\n",
    "\n",
    "# 'generic import' of math module\n",
    "import math\n",
    "math.sqrt(25)\n",
    "\n",
    "# import a function\n",
    "from math import sqrt\n",
    "sqrt(25)    # no longer have to reference the module\n",
    "\n",
    "# import multiple functions at once\n",
    "from math import cos, floor\n",
    "\n",
    "# import all functions in a module (generally discouraged)\n",
    "from csv import *\n",
    "\n",
    "# define an alias\n",
    "import datetime as dt\n",
    "\n",
    "# show all functions in math module\n",
    "dir(math)\n",
    "\n",
    "math.ceil(10.1) \t# 11"
   ]
  }
 ],
 "metadata": {},
 "nbformat": 4,
 "nbformat_minor": 2
}
