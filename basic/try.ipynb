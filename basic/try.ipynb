{
 "cells": [
  {
   "cell_type": "code",
   "execution_count": null,
   "metadata": {},
   "outputs": [],
   "source": [
    "#!/usr/bin/env python3\n",
    "# -*- coding: utf-8 -*-\n",
    "\"\"\"\n",
    "Created on Thu Oct  5 17:28:15 2017\n",
    "\n",
    "@author: nlhsueh\n",
    "\"\"\"\n",
    "\n",
    "import numpy as np\n",
    "c = np.arange(27).reshape(3,3,3) \n",
    "print (c)\n",
    "\n",
    "print (c[0])\n",
    "\n",
    "a = np.array([1234])\n",
    "\n",
    "a = np.array([[1112131415], [1617181920212223242526272829303132333435]])\n",
    "\n",
    "print (a)\n",
    "\n",
    "a = np.arange(16).reshape(4,4)\n",
    "print (a[:2, :2])\n",
    "print (a[:2, :])\n",
    "\n",
    "print (a[::2, :])\n",
    "\n",
    "print (a[:, 1:3])\n"
   ]
  }
 ],
 "metadata": {},
 "nbformat": 4,
 "nbformat_minor": 2
}
