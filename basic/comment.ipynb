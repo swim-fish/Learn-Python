{
 "cells": [
  {
   "cell_type": "code",
   "execution_count": null,
   "metadata": {},
   "outputs": [],
   "source": [
    "# one line comment, 這是一行註解\n",
    "\n",
    "\"\"\"\n",
    "block commment \n",
    "Hello, 這是一個\n",
    "多行註解\n",
    "\"\"\"  \t\t\n",
    "\n",
    "''' \n",
    "block comment \n",
    "這樣也是多行註解，\n",
    "三個單引號或三個雙引號都可以 \n",
    "'''\n",
    "\n",
    "# docstring, 寫在 function 下的說明，稱為 docstring\n",
    "def add(x, y):\n",
    "    \"\"\" Adding two values\n",
    "    @param x: one value\n",
    "    @param y: another value\n",
    "    @return: the result of adding x and y\n",
    "    \"\"\"\n",
    "    \n",
    "    return x+y\n",
    "\n",
    "# docstring 可以透過 __doc__ 或 help 來取得\n",
    "print (add.__doc__)"
   ]
  }
 ],
 "metadata": {},
 "nbformat": 4,
 "nbformat_minor": 2
}
