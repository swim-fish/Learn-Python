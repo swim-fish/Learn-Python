{
 "cells": [
  {
   "cell_type": "code",
   "execution_count": null,
   "metadata": {},
   "outputs": [],
   "source": [
    "t = [1,2,3]\n",
    "len(t)\t\n",
    "max(t), min(t)\n",
    "[1, 2, 3] + [4, 5, 6]\t\n",
    "['Hello!'] * 3\t\n",
    "3 in [1, 2, 3]\t \n",
    "\n",
    "for x in [1, 2, 3]: \n",
    "   print (x)\t\n",
    "\n",
    "t = [1,2,3]\n",
    "del t[1]\n",
    "t"
   ]
  }
 ],
 "metadata": {},
 "nbformat": 4,
 "nbformat_minor": 2
}
