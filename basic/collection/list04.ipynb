{
 "cells": [
  {
   "cell_type": "code",
   "execution_count": null,
   "metadata": {},
   "outputs": [],
   "source": [
    "matrix = [[1, 2, 3], [4, 5, 6], [7, 8, 9], [10, 11, 12]]\n",
    "\n",
    "# adding a row\n",
    "matrix += [[13, 14, 15]]\n",
    "# >> [[0, 2, 3], [4, 5, 6], [7, 8, 9], [10, 11, 12], [13, 14, 15]]\n",
    "\n",
    "print (matrix)\n",
    "\n",
    "# adding a column\n",
    "for index, element in enumerate([3, 6, 9, 12, 15]):\n",
    "    matrix[index].append(element)\n",
    "\n",
    "print (matrix)"
   ]
  }
 ],
 "metadata": {},
 "nbformat": 4,
 "nbformat_minor": 2
}
