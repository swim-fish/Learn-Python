{
 "cells": [
  {
   "cell_type": "code",
   "execution_count": null,
   "metadata": {},
   "outputs": [],
   "source": [
    "# LIST OF LIST\n",
    "\n",
    "matrix = [[1, 2, 3], [4, 5, 6], [7, 8, 9], [10, 11, 12]]\n",
    "\n",
    "# examine a list\n",
    "matrix[2]           \n",
    "matrix[2][0]\n",
    "\n",
    "# enumerate\n",
    "for i, row in enumerate(matrix):\n",
    "    for j, element in enumerate(row):\n",
    "        print ('matrix', i, j, '=', element)\n",
    "\n",
    "for row in range(len(matrix)):\n",
    "    for column in range(len(matrix[row])):\n",
    "        print (matrix[row][column], end=' ')\n",
    "    print (\"\\n\")    \n",
    "\n",
    "# append\n",
    "matrix += [[13, 14, 15]]\n",
    "\n",
    "# add a 'column'\n",
    "for index, element in enumerate([3, 6, 9, 12, 15]):\n",
    "    matrix[index].append(element)"
   ]
  }
 ],
 "metadata": {},
 "nbformat": 4,
 "nbformat_minor": 2
}
