{
 "cells": [
  {
   "cell_type": "code",
   "execution_count": null,
   "metadata": {},
   "outputs": [],
   "source": [
    "# Create a tuple\n",
    "tup1 = ('physics', 'chemistry', 1997, 2000);\n",
    "tup2 = (1, 2, 3, 4, 5 );\n",
    "tup3 = \"a\", \"b\", \"c\", \"d\";\n",
    "tup4 = tuple([1, 2, 3, 4, 5]); \t#create from list\n",
    "tup3 = (3,4,5)\t\t\t# OK\n",
    "tup3[0] = 100\t\t\t# ERROR\n",
    "\n",
    "# Get the elements\n",
    "print (tup1[0])\n",
    "print (tup2[1:4])\t\t# 2, 3, 4 \n",
    "\n",
    "# Function and method\n",
    "len (tup2) \t\t\t# 5\n",
    "tup2.count(1)\t\t\t# 1\n",
    "tup3.index(4)\t\t\t# 1\n",
    "tup2 = tup2 + (6)\t# (1,2,3,4,5,6)\n",
    "(3, 4) * 2  \t\t   # returns (3, 4, 3, 4)\n",
    "\n",
    "# Sort a list of tuples\n",
    "tens = [(20, 60), (10, 40), (20, 30)]\n",
    "s2 = sorted(tens)\t# sorts by first element in tuple, then second\n",
    "\n",
    "# Tuple unpacking\n",
    "bart = ('male', 10, 'simpson')  # create a tuple\n",
    "(sex, age, surname) = bart      # assign three values at once\n",
    "sex, age, surname = bart        # assign three values at once\n"
   ]
  }
 ],
 "metadata": {},
 "nbformat": 4,
 "nbformat_minor": 2
}
