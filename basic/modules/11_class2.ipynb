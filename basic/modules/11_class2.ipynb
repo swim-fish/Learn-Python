{
 "cells": [
  {
   "cell_type": "code",
   "execution_count": null,
   "metadata": {},
   "outputs": [],
   "source": [
    "#!/usr/bin/env python3\n",
    "# -*- coding: utf-8 -*-\n",
    "\"\"\"\n",
    "Created on Sun Oct  8 15:12:03 2017\n",
    "\n",
    "@author: nlhsueh\n",
    "\"\"\"\n",
    "\n",
    "class C:\n",
    "    __x=100\n",
    "    y=50        \n",
    "    def inc(self):\n",
    "        self.__x += 1\n",
    "        C.__x += 100        \n",
    "    def print(self):\n",
    "        print (\"C.__x\", C.__x)        \n",
    "        print (\"self.__x\", self.__x)\n",
    "c1 = C()\n",
    "c1.inc()\n",
    "c1.print()\n",
    "\n",
    "c2 = C()\n",
    "c2.inc()\n",
    "c2.print()\n"
   ]
  }
 ],
 "metadata": {},
 "nbformat": 4,
 "nbformat_minor": 2
}
