{
 "cells": [
  {
   "cell_type": "code",
   "execution_count": null,
   "metadata": {},
   "outputs": [],
   "source": [
    "class People:\n",
    "    def __init__(self, ID):\n",
    "        self.__ssn = ID # private attr\n",
    "        self.ssn = ID # nonprivate attr\n",
    "                \n",
    "    def __str__(self):\n",
    "        return \"SSN: \" + self.__ssn\n",
    "        \n",
    "    def __repr__(self):  \n",
    "        return \"The SSN is \" + self.__ssn\n",
    "    \n",
    "\n",
    "p = People('abc')    \n",
    "print (p)\n",
    "print (repr(p))"
   ]
  }
 ],
 "metadata": {},
 "nbformat": 4,
 "nbformat_minor": 2
}
