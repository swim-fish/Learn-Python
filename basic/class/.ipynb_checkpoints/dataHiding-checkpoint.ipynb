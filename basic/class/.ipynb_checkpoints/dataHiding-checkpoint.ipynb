{
 "cells": [
  {
   "cell_type": "code",
   "execution_count": null,
   "metadata": {},
   "outputs": [],
   "source": [
    "# __privateAttr\n",
    "\n",
    "class People:\n",
    "    def __init__(self, ID):\n",
    "        self.__ssn = ID # private attr\n",
    "        self._ssn = ID # protected attr\n",
    "        self.ssn = ID # nonprivate attr\n",
    "        \n",
    "    def printSSN(self):\n",
    "        print (self.__ssn)\n",
    "        \n",
    "p = People('s01')\n",
    "print (p.ssn)\n",
    "print (p._ssn) # ok but not recommended\n",
    "print (p.__ssn) # ERROR        \n",
    "p.printSSN()"
   ]
  }
 ],
 "metadata": {
  "kernelspec": {
   "display_name": "Python 3",
   "language": "python",
   "name": "python3"
  },
  "language_info": {
   "codemirror_mode": {
    "name": "ipython",
    "version": 3
   },
   "file_extension": ".py",
   "mimetype": "text/x-python",
   "name": "python",
   "nbconvert_exporter": "python",
   "pygments_lexer": "ipython3",
   "version": "3.6.4"
  }
 },
 "nbformat": 4,
 "nbformat_minor": 2
}
