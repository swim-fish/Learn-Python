{
 "cells": [
  {
   "cell_type": "code",
   "execution_count": null,
   "metadata": {},
   "outputs": [],
   "source": [
    "class C:\n",
    "    __x=100\n",
    "    y=50        \n",
    "\n",
    "    def inc(self):\n",
    "        self.__x += 1\n",
    "        C.__x += 100        \n",
    "\n",
    "    def print(self):\n",
    "        print (\"C.__x: \", C.__x)        \n",
    "        print (\"self.__x: \", self.__x)\n",
    "\n",
    "c1 = C()\n",
    "c1.inc()\n",
    "c1.print()\n",
    "\n",
    "c2 = C()\n",
    "c2.inc()\n",
    "c2.print()"
   ]
  }
 ],
 "metadata": {},
 "nbformat": 4,
 "nbformat_minor": 2
}
