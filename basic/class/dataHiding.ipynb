{
 "cells": [
  {
   "cell_type": "code",
   "execution_count": null,
   "metadata": {},
   "outputs": [],
   "source": [
    "# __privateAttr\n",
    "\n",
    "class People:\n",
    "    def __init__(self, ID):\n",
    "        self.__ssn = ID # private attr\n",
    "        self._ssn = ID # protected attr\n",
    "        self.ssn = ID # nonprivate attr\n",
    "        \n",
    "    def printSSN(self):\n",
    "        print (self.__ssn)\n",
    "        \n",
    "p = People('s01')\n",
    "print (p.ssn)\n",
    "print (p._ssn) # ok but not recommended\n",
    "print (p.__ssn) # ERROR        \n",
    "p.printSSN()"
   ]
  }
 ],
 "metadata": {},
 "nbformat": 4,
 "nbformat_minor": 2
}
