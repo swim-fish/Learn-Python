{
 "cells": [
  {
   "cell_type": "code",
   "execution_count": null,
   "metadata": {},
   "outputs": [],
   "source": [
    "class Fib:\n",
    "    def __init__(self, max):\n",
    "        self.max = max\n",
    "\n",
    "    def __iter__(self):\n",
    "        self.a = 0\n",
    "        self.b = 1\n",
    "        return self\n",
    "\n",
    "    def __next__(self): # 宣告 Fib 是一個 iterator\n",
    "        fib = self.a\n",
    "        if fib > self.max:\n",
    "            raise StopIteration # StopIteration 並不是例外\n",
    "        self.a, self.b = self.b, self.a + self.b\n",
    "        return fib  \n",
    "    \n",
    "for n in Fib(1000):\n",
    "    print (n, end=' ')"
   ]
  }
 ],
 "metadata": {},
 "nbformat": 4,
 "nbformat_minor": 2
}
