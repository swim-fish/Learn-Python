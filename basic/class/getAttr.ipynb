{
 "cells": [
  {
   "cell_type": "code",
   "execution_count": null,
   "metadata": {},
   "outputs": [],
   "source": [
    "# I: using getattr\n",
    "class People:\n",
    "    def __init__(self, birth_year):\n",
    "        self.year = birth_year\n",
    "     \n",
    "    def __getattr__(self, key):\n",
    "        if key == 'age':\n",
    "            return 2017 - self.year\n",
    "        else:\n",
    "            raise AttributeError\n",
    "    \n",
    "p = People(2000)   \n",
    "print (p.age)\n",
    "p.age = 50\n",
    "print (p.age)\n",
    "\n",
    "# II: using getattribute\n",
    "class People2:\n",
    "    def __init__(self, birth_year):\n",
    "        self.year = birth_year\n",
    "        self.age = 100\n",
    "     \n",
    "    def __getattribute__(self, key):\n",
    "        if key == 'age':\n",
    "            return 2017 - self.year\n",
    "        else:\n",
    "            raise AttributeError\n",
    "    \n",
    "p = People2(2000)   \n",
    "print (p.age)\n",
    "p.age = 50\n",
    "print (p.age)"
   ]
  }
 ],
 "metadata": {},
 "nbformat": 4,
 "nbformat_minor": 2
}
