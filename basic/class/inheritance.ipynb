{
 "cells": [
  {
   "cell_type": "code",
   "execution_count": null,
   "metadata": {},
   "outputs": [],
   "source": [
    "class Employee:\n",
    "   def __init__(self, name, ID):\n",
    "      self.name = name\n",
    "      self.ID = ID\n",
    "      \n",
    "   def print(self):\n",
    "       print (self.name, self.ID)\n",
    "\n",
    "class Engineer(Employee): \n",
    "   def __init__ (self, name, ID, expert):\n",
    "       # 呼叫父類別的建構子\n",
    "       super().__init__(name, ID)\n",
    "       # python 2 必須是 super(Engineer, self)....\n",
    "       self.expert = expert\n",
    "\n",
    "   # overriding       \n",
    "   def print(self):\n",
    "       print (self.name, self.ID, self.expert)\n",
    "       \n",
    "e = Employee('Jack', 's01')       \n",
    "e.print()\n",
    "print (isinstance(e, Employee))\n",
    "print (isinstance(e, Engineer))\n",
    "       \n",
    "e2 = Engineer('Alen', 's02', 'Java')       \n",
    "e2.print()       \n",
    "print (isinstance(e2, Employee))\n",
    "print (isinstance(e2, Engineer))       "
   ]
  }
 ],
 "metadata": {},
 "nbformat": 4,
 "nbformat_minor": 2
}
