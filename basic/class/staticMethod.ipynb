{
 "cells": [
  {
   "cell_type": "code",
   "execution_count": null,
   "metadata": {},
   "outputs": [],
   "source": [
    "# STATIC METHOD\n",
    "class P:\n",
    "    def prime(v):\n",
    "        \"列出 v 以下的所有質數\" # docstring\n",
    "        for n in range(2, v):\n",
    "            for d in range (2,n):\n",
    "                if n % d == 0:\n",
    "                    print (n, \"等於\", d, \"*\", n//d)\n",
    "                    break\n",
    "            else:\n",
    "                print (n, \" 是質數\")\n",
    "\n",
    "P.prime(10)\n",
    "#p = P()\n",
    "#p.prime()"
   ]
  }
 ],
 "metadata": {},
 "nbformat": 4,
 "nbformat_minor": 2
}
