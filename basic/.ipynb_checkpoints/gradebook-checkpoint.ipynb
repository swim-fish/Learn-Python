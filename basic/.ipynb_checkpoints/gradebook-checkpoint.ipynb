{
 "cells": [
  {
   "cell_type": "code",
   "execution_count": 1,
   "metadata": {},
   "outputs": [],
   "source": [
    "from functools import reduce"
   ]
  },
  {
   "cell_type": "code",
   "execution_count": 2,
   "metadata": {},
   "outputs": [],
   "source": [
    "class GradeBook:\n",
    "    '記錄及管理所有學生的所有科目的成績'\n",
    "\n",
    "    def __init__(self, students, subjects, grades):\n",
    "        \"\"\"\n",
    "        students: list of names (string)\n",
    "        subject: list of subject (float)\n",
    "        grade: list of list, grade[i][j] is the grade of\n",
    "            student i in subject j\n",
    "        Compute the average of each student, save to \n",
    "            studentAverages\n",
    "        studentAverages: list of average (float)    \n",
    "        \"\"\"\n",
    "        self.students = students\n",
    "        self.grades = grades\n",
    "        self.subjects = subjects\n",
    "        \n",
    "        # compute average of each student\n",
    "        self.studentAverages = []\n",
    "        for s in grades:\n",
    "            sum = 0\n",
    "            for g in s:\n",
    "                sum += g\n",
    "            self.studentAverages.append(sum//len(s))  \n",
    "            \n",
    "    def getAverage(self):\n",
    "        '回傳所有科目的平均, list of float'\n",
    "        return self.studentAverages\n",
    "\n",
    "    def getStudentAverage(self, i):\n",
    "        'return the average of the student i'\n",
    "        return self.studentAverages[i]\n",
    "\n",
    "    def getSubjectAverage(self, j):\n",
    "        'return the average of the subject j'\n",
    "        subjectAverage = []\n",
    "        for i in list(zip(*self.grades)):\n",
    "            subjectAverage.append(reduce(lambda x, y: x + y, i) / len(i))        \n",
    "        return subjectAverage[j]\n",
    "\n",
    "    def getSubjectGrade(self, j):\n",
    "        'retrun the greade list of the subject j'\n",
    "        subjectGrades = []\n",
    "        for g in self.grades[j]:\n",
    "            subjectGrades.append(g[j])            \n",
    "        return subjectGrades\n",
    "\n",
    "    def getStudentGrades(self, i):\n",
    "        'return the grade list of student i'\n",
    "        return self.grades[i]    \n",
    "\n",
    "    def showGrade(self):\n",
    "        'show self.grades'\n",
    "        print (self.grades)\n",
    "   \n",
    "    def showAverages(self):\n",
    "        'show student name, grade, average and standard deviation in each subject'\n",
    "        stList = \"\"\n",
    "        for s in students:\n",
    "            stList += s\n",
    "            stList += \", \"\n",
    "        stList = stList[0:len(stList)-2] #remove the last ,\n",
    "        print (\"The average of students \" + stList + \" are: \")\n",
    "        print (self.studentAverages)"
   ]
  },
  {
   "cell_type": "code",
   "execution_count": 3,
   "metadata": {},
   "outputs": [],
   "source": [
    "grades = [[12,23,34], [45,56,67], [78,89,90]]        \n",
    "students = [\"Nick\", \"John\", \"Peter\"]\n",
    "subjects = [\"English\", \"Math\", \"Physical\"]"
   ]
  },
  {
   "cell_type": "code",
   "execution_count": 4,
   "metadata": {},
   "outputs": [],
   "source": [
    "gBook = GradeBook(students, subjects, grades)"
   ]
  },
  {
   "cell_type": "code",
   "execution_count": 5,
   "metadata": {},
   "outputs": [
    {
     "name": "stdout",
     "output_type": "stream",
     "text": [
      "[[12, 23, 34], [45, 56, 67], [78, 89, 90]]\n"
     ]
    }
   ],
   "source": [
    "gBook.showGrade()"
   ]
  },
  {
   "cell_type": "code",
   "execution_count": 6,
   "metadata": {},
   "outputs": [
    {
     "name": "stdout",
     "output_type": "stream",
     "text": [
      "The average of students Nick, John, Peter are: \n",
      "[23, 56, 85]\n"
     ]
    }
   ],
   "source": [
    "gBook.showAverages()"
   ]
  },
  {
   "cell_type": "code",
   "execution_count": 7,
   "metadata": {},
   "outputs": [
    {
     "data": {
      "text/plain": [
       "(45.0, 56.0, 63.666666666666664)"
      ]
     },
     "execution_count": 7,
     "metadata": {},
     "output_type": "execute_result"
    }
   ],
   "source": [
    "gBook.getSubjectAverage(0),gBook.getSubjectAverage(1),gBook.getSubjectAverage(2)"
   ]
  },
  {
   "cell_type": "markdown",
   "metadata": {},
   "source": [
    "### lambda :\n",
    "4.7.5. Lambda Expressions\n",
    "Small anonymous functions can be created with the lambda keyword. This function returns the sum of its two arguments: `lambda a, b: a+b`. Lambda functions can be used wherever function objects are required. They are syntactically restricted to a single expression. Semantically, they are just syntactic sugar for a normal function definition. Like nested function definitions, lambda functions can reference variables from the containing scope:"
   ]
  },
  {
   "cell_type": "code",
   "execution_count": 8,
   "metadata": {},
   "outputs": [],
   "source": [
    "def make_incrementor(n):\n",
    "    return lambda x: x + n"
   ]
  },
  {
   "cell_type": "code",
   "execution_count": 9,
   "metadata": {},
   "outputs": [
    {
     "data": {
      "text/plain": [
       "42"
      ]
     },
     "execution_count": 9,
     "metadata": {},
     "output_type": "execute_result"
    }
   ],
   "source": [
    "f = make_incrementor(42)\n",
    "f(0)"
   ]
  },
  {
   "cell_type": "code",
   "execution_count": 10,
   "metadata": {},
   "outputs": [
    {
     "data": {
      "text/plain": [
       "43"
      ]
     },
     "execution_count": 10,
     "metadata": {},
     "output_type": "execute_result"
    }
   ],
   "source": [
    "f(1)"
   ]
  },
  {
   "cell_type": "code",
   "execution_count": 11,
   "metadata": {
    "scrolled": true
   },
   "outputs": [
    {
     "data": {
      "text/plain": [
       "[(4, 'four'), (1, 'one'), (3, 'three'), (2, 'two')]"
      ]
     },
     "execution_count": 11,
     "metadata": {},
     "output_type": "execute_result"
    }
   ],
   "source": [
    "pairs = [(1, 'one'), (2, 'two'), (3, 'three'), (4, 'four')]\n",
    "pairs.sort(key=lambda pair: pair[1])\n",
    "pairs"
   ]
  },
  {
   "cell_type": "markdown",
   "metadata": {},
   "source": [
    "`functools.reduce(function, iterable[, initializer])`\n",
    "\n",
    "Apply function of two arguments cumulatively to the items of sequence, from left to right, so as to reduce the sequence to a single value. For example, `reduce(lambda x, y: x+y, [1, 2, 3, 4, 5])` calculates `((((1+2)+3)+4)+5)`. The left argument, x, is the accumulated value and the right argument, y, is the update value from the sequence. If the optional initializer is present, it is placed before the items of the sequence in the calculation, and serves as a default when the sequence is empty. If initializer is not given and sequence contains only one item, the first item is returned."
   ]
  },
  {
   "cell_type": "code",
   "execution_count": 12,
   "metadata": {},
   "outputs": [
    {
     "name": "stdout",
     "output_type": "stream",
     "text": [
      "5.0\n"
     ]
    }
   ],
   "source": [
    "l = [1, 2, 3, 4, 5, 6, 7, 8, 9]\n",
    "print (reduce(lambda x, y: x + y, l) / len(l))"
   ]
  },
  {
   "cell_type": "code",
   "execution_count": 13,
   "metadata": {},
   "outputs": [
    {
     "name": "stdout",
     "output_type": "stream",
     "text": [
      "[[12, 45, 78], [23, 56, 89], [34, 67, 90]]\n"
     ]
    }
   ],
   "source": [
    "l = [[12, 23, 34], [45, 56, 67], [78, 89, 90]]\n",
    "print (list(map(list, zip(*l))))"
   ]
  },
  {
   "cell_type": "code",
   "execution_count": 14,
   "metadata": {},
   "outputs": [
    {
     "data": {
      "text/plain": [
       "[(12, 45, 78), (23, 56, 89), (34, 67, 90)]"
      ]
     },
     "execution_count": 14,
     "metadata": {},
     "output_type": "execute_result"
    }
   ],
   "source": [
    "list(zip(*l))"
   ]
  },
  {
   "cell_type": "markdown",
   "metadata": {},
   "source": [
    "`filter(function, iterable)`\n",
    "\n",
    "Construct an iterator from those elements of iterable for which function returns true. \n",
    "iterable may be either a sequence, a container which supports iteration, or an iterator. \n",
    "If function is `None`, the identity function is assumed, that is, all elements of iterable that are false are removed.\n",
    "\n",
    "Note that `filter(function, iterable)` is equivalent to the generator expression `(item for item in iterable if function(item))` if function is not `None` and `(item for item in iterable if item)` if function is `None`."
   ]
  },
  {
   "cell_type": "code",
   "execution_count": 15,
   "metadata": {},
   "outputs": [
    {
     "data": {
      "text/plain": [
       "[6, 7, 8, 9]"
      ]
     },
     "execution_count": 15,
     "metadata": {},
     "output_type": "execute_result"
    }
   ],
   "source": [
    "def fn(x):\n",
    "    return x if x > 5 else None\n",
    "a = [1, 2, 3, 4, 5, 6, 7, 8, 9]\n",
    "b = filter(fn, a)\n",
    "list(b)"
   ]
  },
  {
   "cell_type": "code",
   "execution_count": null,
   "metadata": {},
   "outputs": [],
   "source": []
  }
 ],
 "metadata": {
  "kernelspec": {
   "display_name": "Python 3",
   "language": "python",
   "name": "python3"
  },
  "language_info": {
   "codemirror_mode": {
    "name": "ipython",
    "version": 3
   },
   "file_extension": ".py",
   "mimetype": "text/x-python",
   "name": "python",
   "nbconvert_exporter": "python",
   "pygments_lexer": "ipython3",
   "version": "3.6.4"
  }
 },
 "nbformat": 4,
 "nbformat_minor": 2
}
