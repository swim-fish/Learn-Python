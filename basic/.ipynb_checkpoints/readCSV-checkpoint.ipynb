{
 "cells": [
  {
   "cell_type": "code",
   "execution_count": 1,
   "metadata": {},
   "outputs": [
    {
     "name": "stdout",
     "output_type": "stream",
     "text": [
      "['S0008', [98, 32, 86], 72.0]\n",
      "['S0006', [45, 43, 98], 62.0]\n",
      "['S0009', [65, 32, 85], 60.67]\n",
      "['S0003', [83, 54, 31], 56.0]\n",
      "['S0007', [20, 44, 87], 50.33]\n",
      "['S0004', [90, 32, 21], 47.67]\n",
      "['S0002', [60, 34, 32], 42.0]\n",
      "['S0005', [12, 34, 78], 41.33]\n",
      "['S0010', [23, 90, 10], 41.0]\n",
      "['S0001', [50, 23, 12], 28.33]\n"
     ]
    }
   ],
   "source": [
    "# using CSV modules\n",
    "\n",
    "import csv\n",
    "def dataProcess():\n",
    "    \"\"\"\n",
    "    read grade from csv file and package into a sorted list\n",
    "    @return list of name, grade of each subject, average (sort by average)\n",
    "    \"\"\"\n",
    "    # ID, eng, math, phy\n",
    "    f = open('grade2.csv', 'r')    \n",
    "    student = []\n",
    "    grades=[]\n",
    "    for student in csv.reader(f): # read one line\n",
    "        sum = 0\n",
    "        name = student[0]\n",
    "        eng = int(student[1])\n",
    "        math = int(student[2])\n",
    "        phy = int(student[3])\n",
    "        sum += eng + math + phy\n",
    "        avg = round(float(sum)/3, 2)\n",
    "        grades.append([name, [eng, math, phy], avg])\n",
    "\n",
    "    f.close()\n",
    "    # 依據平均做漸增排序\n",
    "    sortedGrade = sorted(grades, key=lambda x: x[-1], reverse=True)    \n",
    "    return sortedGrade\n",
    "\n",
    "g = dataProcess()\n",
    "for e in g:\n",
    "    print (e)"
   ]
  },
  {
   "cell_type": "code",
   "execution_count": 2,
   "metadata": {},
   "outputs": [],
   "source": [
    "%less grade2.csv "
   ]
  },
  {
   "cell_type": "markdown",
   "metadata": {},
   "source": [
    "![img](grade2.png)"
   ]
  },
  {
   "cell_type": "code",
   "execution_count": null,
   "metadata": {},
   "outputs": [],
   "source": []
  }
 ],
 "metadata": {
  "kernelspec": {
   "display_name": "Python 3",
   "language": "python",
   "name": "python3"
  },
  "language_info": {
   "codemirror_mode": {
    "name": "ipython",
    "version": 3
   },
   "file_extension": ".py",
   "mimetype": "text/x-python",
   "name": "python",
   "nbconvert_exporter": "python",
   "pygments_lexer": "ipython3",
   "version": "3.6.4"
  }
 },
 "nbformat": 4,
 "nbformat_minor": 2
}
