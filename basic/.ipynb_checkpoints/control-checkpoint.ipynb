{
 "cells": [
  {
   "cell_type": "markdown",
   "metadata": {},
   "source": [
    "## COMPARISONS AND BOOLEAN OPERATIONS"
   ]
  },
  {
   "cell_type": "markdown",
   "metadata": {},
   "source": [
    "### assignment statement"
   ]
  },
  {
   "cell_type": "code",
   "execution_count": 1,
   "metadata": {},
   "outputs": [],
   "source": [
    "x = 5"
   ]
  },
  {
   "cell_type": "markdown",
   "metadata": {},
   "source": [
    "### comparisons (these return True)"
   ]
  },
  {
   "cell_type": "code",
   "execution_count": 2,
   "metadata": {},
   "outputs": [
    {
     "data": {
      "text/plain": [
       "True"
      ]
     },
     "execution_count": 2,
     "metadata": {},
     "output_type": "execute_result"
    }
   ],
   "source": [
    "x > 3"
   ]
  },
  {
   "cell_type": "code",
   "execution_count": 3,
   "metadata": {},
   "outputs": [
    {
     "data": {
      "text/plain": [
       "True"
      ]
     },
     "execution_count": 3,
     "metadata": {},
     "output_type": "execute_result"
    }
   ],
   "source": [
    "x != 3"
   ]
  },
  {
   "cell_type": "code",
   "execution_count": 4,
   "metadata": {},
   "outputs": [
    {
     "data": {
      "text/plain": [
       "True"
      ]
     },
     "execution_count": 4,
     "metadata": {},
     "output_type": "execute_result"
    }
   ],
   "source": [
    "x == 5"
   ]
  },
  {
   "cell_type": "markdown",
   "metadata": {},
   "source": [
    "### boolean operations (these return True)\n"
   ]
  },
  {
   "cell_type": "code",
   "execution_count": 5,
   "metadata": {},
   "outputs": [
    {
     "data": {
      "text/plain": [
       "True"
      ]
     },
     "execution_count": 5,
     "metadata": {},
     "output_type": "execute_result"
    }
   ],
   "source": [
    "5 > 3 and 6 > 3"
   ]
  },
  {
   "cell_type": "code",
   "execution_count": 6,
   "metadata": {},
   "outputs": [
    {
     "data": {
      "text/plain": [
       "True"
      ]
     },
     "execution_count": 6,
     "metadata": {},
     "output_type": "execute_result"
    }
   ],
   "source": [
    "5 > 3 or 5 < 3"
   ]
  },
  {
   "cell_type": "code",
   "execution_count": 7,
   "metadata": {},
   "outputs": [
    {
     "data": {
      "text/plain": [
       "True"
      ]
     },
     "execution_count": 7,
     "metadata": {},
     "output_type": "execute_result"
    }
   ],
   "source": [
    "not False"
   ]
  },
  {
   "cell_type": "code",
   "execution_count": 8,
   "metadata": {},
   "outputs": [
    {
     "data": {
      "text/plain": [
       "True"
      ]
     },
     "execution_count": 8,
     "metadata": {},
     "output_type": "execute_result"
    }
   ],
   "source": [
    "False or not False and True     # evaluation order: not, and, or"
   ]
  },
  {
   "cell_type": "markdown",
   "metadata": {},
   "source": [
    "### CONDITIONAL STATEMENTS "
   ]
  },
  {
   "cell_type": "code",
   "execution_count": 9,
   "metadata": {},
   "outputs": [
    {
     "name": "stdout",
     "output_type": "stream",
     "text": [
      "positive\n"
     ]
    }
   ],
   "source": [
    "# if statement\n",
    "if x > 0:\n",
    "    print('positive')"
   ]
  },
  {
   "cell_type": "code",
   "execution_count": 10,
   "metadata": {},
   "outputs": [
    {
     "name": "stdout",
     "output_type": "stream",
     "text": [
      "positive\n"
     ]
    }
   ],
   "source": [
    "# if/else statement\n",
    "if x > 0:\n",
    "    print('positive')\n",
    "else:\n",
    "    print('zero or negative')"
   ]
  },
  {
   "cell_type": "code",
   "execution_count": 11,
   "metadata": {},
   "outputs": [
    {
     "name": "stdout",
     "output_type": "stream",
     "text": [
      "positive\n"
     ]
    }
   ],
   "source": [
    "# if/elif/else statement\n",
    "if x > 0:\n",
    "    print('positive')\n",
    "elif x == 0:\n",
    "    print('zero')\n",
    "else:\n",
    "    print('negative')"
   ]
  },
  {
   "cell_type": "code",
   "execution_count": 12,
   "metadata": {},
   "outputs": [
    {
     "name": "stdout",
     "output_type": "stream",
     "text": [
      "positive\n"
     ]
    }
   ],
   "source": [
    "# single-line if statement (sometimes discouraged)\n",
    "if x > 0: print('positive')"
   ]
  },
  {
   "cell_type": "code",
   "execution_count": 13,
   "metadata": {},
   "outputs": [
    {
     "data": {
      "text/plain": [
       "'positive'"
      ]
     },
     "execution_count": 13,
     "metadata": {},
     "output_type": "execute_result"
    }
   ],
   "source": [
    "# single-line if/else statement (sometimes discouraged)\n",
    "# known as a 'ternary operator'\n",
    "'positive' if x > 0 else 'zero or negative'"
   ]
  },
  {
   "cell_type": "code",
   "execution_count": 14,
   "metadata": {},
   "outputs": [
    {
     "name": "stdout",
     "output_type": "stream",
     "text": [
      "Please enter an age: 0\n",
      "Young man\n"
     ]
    }
   ],
   "source": [
    "# EXERCISE: how old are you        \n",
    "\n",
    "age = int(input(\"Please enter an age: \"))\n",
    "\n",
    "if age <0:\n",
    "    print (\"Error\")\n",
    "elif age < 20:\n",
    "    print (\"Young man\")\n",
    "elif age < 50:\n",
    "    print (\"Strong man\")\n",
    "else: \n",
    "    print (\"Wisdom man\")"
   ]
  },
  {
   "cell_type": "code",
   "execution_count": 15,
   "metadata": {},
   "outputs": [
    {
     "name": "stdout",
     "output_type": "stream",
     "text": [
      "0\n",
      "1\n",
      "2\n",
      "3\n"
     ]
    }
   ],
   "source": [
    "#\n",
    "# FOR\n",
    "#\n",
    "\n",
    "# range\n",
    "\n",
    "for i in range(4):      # 0, 1, 2, 3\n",
    "    print (i)    "
   ]
  },
  {
   "cell_type": "code",
   "execution_count": 16,
   "metadata": {},
   "outputs": [
    {
     "name": "stdout",
     "output_type": "stream",
     "text": [
      "2\n",
      "3\n",
      "4\n"
     ]
    }
   ],
   "source": [
    "for i in range(2,5):    # 2, 3, 4\n",
    "    print (i)    "
   ]
  },
  {
   "cell_type": "code",
   "execution_count": 17,
   "metadata": {},
   "outputs": [
    {
     "name": "stdout",
     "output_type": "stream",
     "text": [
      "0\n",
      "3\n",
      "6\n",
      "9\n"
     ]
    }
   ],
   "source": [
    "for i in range(0,10,3): # range(開始, 結束, 差)\n",
    "    print (i)           # 0, 3, 6, 9"
   ]
  },
  {
   "cell_type": "code",
   "execution_count": 18,
   "metadata": {},
   "outputs": [
    {
     "name": "stdout",
     "output_type": "stream",
     "text": [
      "3\n",
      "2\n",
      "1\n"
     ]
    }
   ],
   "source": [
    "for i in range(3,0,-1): # range(開始, 結束, 差)\n",
    "    print (i)           # 倒著數"
   ]
  },
  {
   "cell_type": "code",
   "execution_count": 19,
   "metadata": {},
   "outputs": [
    {
     "name": "stdout",
     "output_type": "stream",
     "text": [
      "1 是質數\n",
      "2 是質數\n",
      "3 是質數\n",
      "4 等於 2 * 2\n",
      "5 是質數\n",
      "6 等於 2 * 3\n",
      "7 是質數\n",
      "8 等於 2 * 4\n",
      "9 等於 3 * 3\n",
      "10 等於 2 * 5\n",
      "11 是質數\n",
      "12 等於 2 * 6\n",
      "13 是質數\n",
      "14 等於 2 * 7\n",
      "15 等於 3 * 5\n",
      "16 等於 2 * 8\n",
      "17 是質數\n",
      "18 等於 2 * 9\n",
      "19 是質數\n",
      "20 等於 2 * 10\n",
      "21 等於 3 * 7\n",
      "22 等於 2 * 11\n",
      "23 是質數\n",
      "24 等於 2 * 12\n",
      "25 等於 5 * 5\n",
      "26 等於 2 * 13\n",
      "27 等於 3 * 9\n",
      "28 等於 2 * 14\n",
      "29 是質數\n",
      "30 等於 2 * 15\n",
      "31 是質數\n",
      "32 等於 2 * 16\n",
      "33 等於 3 * 11\n",
      "34 等於 2 * 17\n",
      "35 等於 5 * 7\n",
      "36 等於 2 * 18\n",
      "37 是質數\n",
      "38 等於 2 * 19\n",
      "39 等於 3 * 13\n",
      "40 等於 2 * 20\n",
      "41 是質數\n",
      "42 等於 2 * 21\n",
      "43 是質數\n",
      "44 等於 2 * 22\n",
      "45 等於 3 * 15\n",
      "46 等於 2 * 23\n",
      "47 是質數\n",
      "48 等於 2 * 24\n",
      "49 等於 7 * 7\n",
      "50 等於 2 * 25\n",
      "51 等於 3 * 17\n",
      "52 等於 2 * 26\n",
      "53 是質數\n",
      "54 等於 2 * 27\n",
      "55 等於 5 * 11\n",
      "56 等於 2 * 28\n",
      "57 等於 3 * 19\n",
      "58 等於 2 * 29\n",
      "59 是質數\n",
      "60 等於 2 * 30\n",
      "61 是質數\n",
      "62 等於 2 * 31\n",
      "63 等於 3 * 21\n",
      "64 等於 2 * 32\n",
      "65 等於 5 * 13\n",
      "66 等於 2 * 33\n",
      "67 是質數\n",
      "68 等於 2 * 34\n",
      "69 等於 3 * 23\n",
      "70 等於 2 * 35\n",
      "71 是質數\n",
      "72 等於 2 * 36\n",
      "73 是質數\n",
      "74 等於 2 * 37\n",
      "75 等於 3 * 25\n",
      "76 等於 2 * 38\n",
      "77 等於 7 * 11\n",
      "78 等於 2 * 39\n",
      "79 是質數\n",
      "80 等於 2 * 40\n",
      "81 等於 3 * 27\n",
      "82 等於 2 * 41\n",
      "83 是質數\n",
      "84 等於 2 * 42\n",
      "85 等於 5 * 17\n",
      "86 等於 2 * 43\n",
      "87 等於 3 * 29\n",
      "88 等於 2 * 44\n",
      "89 是質數\n",
      "90 等於 2 * 45\n",
      "91 等於 7 * 13\n",
      "92 等於 2 * 46\n",
      "93 等於 3 * 31\n",
      "94 等於 2 * 47\n",
      "95 等於 5 * 19\n",
      "96 等於 2 * 48\n",
      "97 是質數\n",
      "98 等於 2 * 49\n",
      "99 等於 3 * 33\n"
     ]
    }
   ],
   "source": [
    "# BREAK\n",
    "# 印出 1-100 所有的質數\n",
    "\n",
    "for n in range(1, 100):\n",
    "    for d in range (2,n):\n",
    "        if n % d == 0:\n",
    "            print (n, \"等於\", d, \"*\", n//d)\n",
    "            break\n",
    "    else:\n",
    "        print (n, \"是質數\")"
   ]
  },
  {
   "cell_type": "markdown",
   "metadata": {},
   "source": [
    "### Exercise ==> 改善上面的程式，使之可以印出質數的個數\n",
    "\n"
   ]
  },
  {
   "cell_type": "code",
   "execution_count": 20,
   "metadata": {},
   "outputs": [
    {
     "name": "stdout",
     "output_type": "stream",
     "text": [
      "1 是質數 第 1個質數\n",
      "2 是質數 第 2個質數\n",
      "3 是質數 第 3個質數\n",
      "4 等於 2 * 2\n",
      "5 是質數 第 4個質數\n",
      "6 等於 2 * 3\n",
      "7 是質數 第 5個質數\n",
      "8 等於 2 * 4\n",
      "9 等於 3 * 3\n",
      "10 等於 2 * 5\n",
      "11 是質數 第 6個質數\n",
      "12 等於 2 * 6\n",
      "13 是質數 第 7個質數\n",
      "14 等於 2 * 7\n",
      "15 等於 3 * 5\n",
      "16 等於 2 * 8\n",
      "17 是質數 第 8個質數\n",
      "18 等於 2 * 9\n",
      "19 是質數 第 9個質數\n",
      "20 等於 2 * 10\n",
      "21 等於 3 * 7\n",
      "22 等於 2 * 11\n",
      "23 是質數 第10個質數\n",
      "24 等於 2 * 12\n",
      "25 等於 5 * 5\n",
      "26 等於 2 * 13\n",
      "27 等於 3 * 9\n",
      "28 等於 2 * 14\n",
      "29 是質數 第11個質數\n",
      "30 等於 2 * 15\n",
      "31 是質數 第12個質數\n",
      "32 等於 2 * 16\n",
      "33 等於 3 * 11\n",
      "34 等於 2 * 17\n",
      "35 等於 5 * 7\n",
      "36 等於 2 * 18\n",
      "37 是質數 第13個質數\n",
      "38 等於 2 * 19\n",
      "39 等於 3 * 13\n",
      "40 等於 2 * 20\n",
      "41 是質數 第14個質數\n",
      "42 等於 2 * 21\n",
      "43 是質數 第15個質數\n",
      "44 等於 2 * 22\n",
      "45 等於 3 * 15\n",
      "46 等於 2 * 23\n",
      "47 是質數 第16個質數\n",
      "48 等於 2 * 24\n",
      "49 等於 7 * 7\n",
      "50 等於 2 * 25\n",
      "51 等於 3 * 17\n",
      "52 等於 2 * 26\n",
      "53 是質數 第17個質數\n",
      "54 等於 2 * 27\n",
      "55 等於 5 * 11\n",
      "56 等於 2 * 28\n",
      "57 等於 3 * 19\n",
      "58 等於 2 * 29\n",
      "59 是質數 第18個質數\n",
      "60 等於 2 * 30\n",
      "61 是質數 第19個質數\n",
      "62 等於 2 * 31\n",
      "63 等於 3 * 21\n",
      "64 等於 2 * 32\n",
      "65 等於 5 * 13\n",
      "66 等於 2 * 33\n",
      "67 是質數 第20個質數\n",
      "68 等於 2 * 34\n",
      "69 等於 3 * 23\n",
      "70 等於 2 * 35\n",
      "71 是質數 第21個質數\n",
      "72 等於 2 * 36\n",
      "73 是質數 第22個質數\n",
      "74 等於 2 * 37\n",
      "75 等於 3 * 25\n",
      "76 等於 2 * 38\n",
      "77 等於 7 * 11\n",
      "78 等於 2 * 39\n",
      "79 是質數 第23個質數\n",
      "80 等於 2 * 40\n",
      "81 等於 3 * 27\n",
      "82 等於 2 * 41\n",
      "83 是質數 第24個質數\n",
      "84 等於 2 * 42\n",
      "85 等於 5 * 17\n",
      "86 等於 2 * 43\n",
      "87 等於 3 * 29\n",
      "88 等於 2 * 44\n",
      "89 是質數 第25個質數\n",
      "90 等於 2 * 45\n",
      "91 等於 7 * 13\n",
      "92 等於 2 * 46\n",
      "93 等於 3 * 31\n",
      "94 等於 2 * 47\n",
      "95 等於 5 * 19\n",
      "96 等於 2 * 48\n",
      "97 是質數 第26個質數\n",
      "98 等於 2 * 49\n",
      "99 等於 3 * 33\n"
     ]
    }
   ],
   "source": [
    "count = 0\n",
    "for n in range(1, 100):\n",
    "    for d in range (2,n):\n",
    "        if n % d == 0:\n",
    "            print (n, \"等於\", d, \"*\", n//d)\n",
    "            break\n",
    "    else:\n",
    "        count += 1\n",
    "        print (n, \"是質數\", \"第{:2d}個質數\".format(count))"
   ]
  },
  {
   "cell_type": "markdown",
   "metadata": {},
   "source": [
    "------"
   ]
  },
  {
   "cell_type": "code",
   "execution_count": 21,
   "metadata": {},
   "outputs": [
    {
     "name": "stdout",
     "output_type": "stream",
     "text": [
      "This will print 5 times\n",
      "This will print 5 times\n",
      "This will print 5 times\n",
      "This will print 5 times\n",
      "This will print 5 times\n"
     ]
    }
   ],
   "source": [
    "#\n",
    "# WHILE\n",
    "#\n",
    "\n",
    "count = 0\n",
    "while count < 5:\n",
    "    print('This will print 5 times')\n",
    "    count += 1    # equivalent to 'count = count + 1'"
   ]
  },
  {
   "cell_type": "code",
   "execution_count": null,
   "metadata": {},
   "outputs": [],
   "source": []
  }
 ],
 "metadata": {
  "kernelspec": {
   "display_name": "Python 3",
   "language": "python",
   "name": "python3"
  },
  "language_info": {
   "codemirror_mode": {
    "name": "ipython",
    "version": 3
   },
   "file_extension": ".py",
   "mimetype": "text/x-python",
   "name": "python",
   "nbconvert_exporter": "python",
   "pygments_lexer": "ipython3",
   "version": "3.6.4"
  }
 },
 "nbformat": 4,
 "nbformat_minor": 2
}
