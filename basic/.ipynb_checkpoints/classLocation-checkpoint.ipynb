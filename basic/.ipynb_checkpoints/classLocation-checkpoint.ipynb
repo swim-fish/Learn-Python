{
 "cells": [
  {
   "cell_type": "code",
   "execution_count": 1,
   "metadata": {},
   "outputs": [],
   "source": [
    "import math\n",
    "\n",
    "class Location:\n",
    "    def __init__(self, x, y):\n",
    "        self.x = x\n",
    "        self.y = y\n",
    "        \n",
    "    def __call__(self, x, y): # object acts like a function\n",
    "        self.x = x\n",
    "        self.y = y\n",
    "        \n",
    "    def __str__(self):\n",
    "        return str(self.x) + \", \" + str(self.y)\n",
    "    \n",
    "    def __len__(self): # object acts like a set\n",
    "        x = self.x\n",
    "        y = self.y\n",
    "        return int(math.sqrt(x*x + y*y))\n",
    "    \n",
    "    def __contains__(self, loc): # object acts like a set\n",
    "        x = loc[0]\n",
    "        y = loc[1]\n",
    "        if self.x > x and self.y > y:\n",
    "            return True\n",
    "        return False"
   ]
  },
  {
   "cell_type": "code",
   "execution_count": 2,
   "metadata": {},
   "outputs": [
    {
     "name": "stdout",
     "output_type": "stream",
     "text": [
      "12, 13\n"
     ]
    }
   ],
   "source": [
    "p = Location(12, 13);\n",
    "print (p)"
   ]
  },
  {
   "cell_type": "code",
   "execution_count": 3,
   "metadata": {},
   "outputs": [
    {
     "name": "stdout",
     "output_type": "stream",
     "text": [
      "13, 14\n"
     ]
    }
   ],
   "source": [
    "p(13, 14)\n",
    "print (p)"
   ]
  },
  {
   "cell_type": "code",
   "execution_count": 4,
   "metadata": {},
   "outputs": [
    {
     "name": "stdout",
     "output_type": "stream",
     "text": [
      "19\n",
      "True\n",
      "False\n"
     ]
    }
   ],
   "source": [
    "print (len(p))\n",
    "print ((1,1) in p)\n",
    "print ((100,1) in p)"
   ]
  },
  {
   "cell_type": "code",
   "execution_count": null,
   "metadata": {},
   "outputs": [],
   "source": []
  }
 ],
 "metadata": {
  "kernelspec": {
   "display_name": "Python 3",
   "language": "python",
   "name": "python3"
  },
  "language_info": {
   "codemirror_mode": {
    "name": "ipython",
    "version": 3
   },
   "file_extension": ".py",
   "mimetype": "text/x-python",
   "name": "python",
   "nbconvert_exporter": "python",
   "pygments_lexer": "ipython3",
   "version": "3.6.4"
  }
 },
 "nbformat": 4,
 "nbformat_minor": 2
}
