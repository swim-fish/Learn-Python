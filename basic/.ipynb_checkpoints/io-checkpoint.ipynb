{
 "cells": [
  {
   "cell_type": "code",
   "execution_count": 1,
   "metadata": {},
   "outputs": [
    {
     "name": "stdout",
     "output_type": "stream",
     "text": [
      "You name? Utaha\n",
      "Utaha\n",
      "Your age? 24\n"
     ]
    }
   ],
   "source": [
    "# String = input(String)\n",
    "\n",
    "name = input(\"You name? \")\n",
    "print (name)\n",
    "\n",
    "age = int(input(\"Your age? \"))\n",
    "\n"
   ]
  },
  {
   "cell_type": "code",
   "execution_count": 2,
   "metadata": {},
   "outputs": [
    {
     "name": "stdout",
     "output_type": "stream",
     "text": [
      "hello Utaha, you are 24\n",
      "hello,  Utaha you are  24\n",
      "hello, Utaha you are 24\n"
     ]
    }
   ],
   "source": [
    "# print using %\n",
    "print ('hello %s, you are %d' % (name, age))\n",
    "print ('hello, ', name, 'you are ', age)\n",
    "\n",
    "# new way of formating: string.format()\n",
    "print ('hello, {0} you are {1}'.format(name, str(age)))\n",
    "   # {0} refers to name\n",
    "   # {1} refers to str(age)"
   ]
  },
  {
   "cell_type": "code",
   "execution_count": 3,
   "metadata": {},
   "outputs": [
    {
     "name": "stdout",
     "output_type": "stream",
     "text": [
      "The value of pi: 3.142.\n",
      "Nick       ==>  41\n",
      "Alen       ==>   3\n",
      "Jack       ==> 102\n",
      "Nick 12\n",
      "\n",
      "Alen 34\n",
      "\n",
      "Albert 55\n"
     ]
    }
   ],
   "source": [
    "import math\n",
    "print('The value of pi: {0:.3f}.'.format(math.pi))\n",
    "\n",
    "table = {'Nick': 41, 'Alen': 3, 'Jack': 102}\n",
    "for name, age in table.items():\n",
    "    # the min space for name is 10\n",
    "    print('{0:10} ==> {1:3d}'.format(name, age))\n",
    "    \n",
    "# open file\n",
    "f = open('age.txt')\n",
    "for line in f:\n",
    "    print (line)\n",
    "f.close()    "
   ]
  },
  {
   "cell_type": "code",
   "execution_count": 4,
   "metadata": {},
   "outputs": [
    {
     "name": "stdout",
     "output_type": "stream",
     "text": [
      "Nick 12\n",
      "Alen 34\n",
      "Albert 55\n",
      "r\n"
     ]
    }
   ],
   "source": [
    "# using with open (..) ... as \n",
    "with open('age.txt') as f:\n",
    "    read_data = f.read()\n",
    "    print (read_data)\n",
    "    print (f.mode)"
   ]
  },
  {
   "cell_type": "code",
   "execution_count": null,
   "metadata": {},
   "outputs": [],
   "source": []
  }
 ],
 "metadata": {
  "kernelspec": {
   "display_name": "Python 3",
   "language": "python",
   "name": "python3"
  },
  "language_info": {
   "codemirror_mode": {
    "name": "ipython",
    "version": 3
   },
   "file_extension": ".py",
   "mimetype": "text/x-python",
   "name": "python",
   "nbconvert_exporter": "python",
   "pygments_lexer": "ipython3",
   "version": "3.6.4"
  }
 },
 "nbformat": 4,
 "nbformat_minor": 2
}
