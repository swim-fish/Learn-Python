{
 "cells": [
  {
   "cell_type": "markdown",
   "metadata": {},
   "source": [
    "### and\n",
    "`if (isPrime and isSmall):\n",
    "    print ()`\n",
    "### or \n",
    "`if (isStudent or isKid):\n",
    "    print ()`\n",
    "### not\n",
    "`if not(isStudent or isKid):\n",
    "    print ()`\n",
    "\n",
    "### 比較運算元\n",
    "`== `等於\n",
    "\n",
    "`>= `大於等於\n",
    "\n",
    "`!=` 不等於"
   ]
  },
  {
   "cell_type": "code",
   "execution_count": 1,
   "metadata": {},
   "outputs": [
    {
     "data": {
      "text/plain": [
       "False"
      ]
     },
     "execution_count": 1,
     "metadata": {},
     "output_type": "execute_result"
    }
   ],
   "source": [
    "# 成員（membership）: in, not in\n",
    "x = 100; grade = [12, 45, 90]\n",
    "x in grade"
   ]
  },
  {
   "cell_type": "code",
   "execution_count": 2,
   "metadata": {},
   "outputs": [
    {
     "data": {
      "text/plain": [
       "True"
      ]
     },
     "execution_count": 2,
     "metadata": {},
     "output_type": "execute_result"
    }
   ],
   "source": [
    "x not in grade"
   ]
  },
  {
   "cell_type": "code",
   "execution_count": null,
   "metadata": {},
   "outputs": [],
   "source": []
  }
 ],
 "metadata": {
  "kernelspec": {
   "display_name": "Python 3",
   "language": "python",
   "name": "python3"
  },
  "language_info": {
   "codemirror_mode": {
    "name": "ipython",
    "version": 3
   },
   "file_extension": ".py",
   "mimetype": "text/x-python",
   "name": "python",
   "nbconvert_exporter": "python",
   "pygments_lexer": "ipython3",
   "version": "3.6.4"
  }
 },
 "nbformat": 4,
 "nbformat_minor": 2
}
