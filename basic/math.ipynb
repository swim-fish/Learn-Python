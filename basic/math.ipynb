{
 "cells": [
  {
   "cell_type": "code",
   "execution_count": null,
   "metadata": {},
   "outputs": [],
   "source": [
    "# basic operations\n",
    "10 + 4          # add, 14\n",
    "10 - 4          # subtract, 6\n",
    "10 * 4          # multiply, 40\n",
    "10 ** 4         # exponent, 10000\n",
    "5 % 4           # modulo, 1\n",
    "10 / 4          # divide, 2.5\n",
    "10 // 4         # 2\n",
    "10 / float(4)   # divide, 2.5\n",
    "round(5.5) \t\t# 四捨五入, 6\n",
    "round(5.49)\t\t# 5\n",
    "round(5.49, 1)\t# 5.5\n",
    "\n",
    "import math\n",
    "math.ceil(10.1) # 11\n",
    "\n",
    "import random\n",
    "random.random()"
   ]
  }
 ],
 "metadata": {},
 "nbformat": 4,
 "nbformat_minor": 2
}
