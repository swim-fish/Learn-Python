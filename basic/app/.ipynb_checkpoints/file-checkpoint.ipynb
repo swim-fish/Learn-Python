{
 "cells": [
  {
   "cell_type": "code",
   "execution_count": 1,
   "metadata": {},
   "outputs": [],
   "source": [
    "#\n",
    "# CSV module \n",
    "#\n",
    "\n",
    "# EXAMPLE\n",
    "import csv\n",
    "\n",
    "def dataProcess():\n",
    "    # 學校, eng, math, phy 的成績    \n",
    "    f = open('../grade2.csv', 'r')\n",
    "    \n",
    "    student = []\n",
    "    grades=[]\n",
    "    for student in csv.reader(f):\n",
    "        sum = 0\n",
    "        name = student[0]\n",
    "        eng = int(student[1])\n",
    "        math = int(student[2])\n",
    "        phy = int(student[3])\n",
    "        sum += eng + math + phy\n",
    "        avg = round(float(sum)/3, 2)\n",
    "        grades.append([name, [eng, math, phy], avg])\n",
    "    sortedGrade = sorted(grades, key=lambda x: x[-1], reverse=True)    \n",
    "    # 依據平均做漸增排序\n",
    "    f.close()\n",
    "    return sortedGrade"
   ]
  },
  {
   "cell_type": "code",
   "execution_count": 2,
   "metadata": {
    "scrolled": true
   },
   "outputs": [
    {
     "name": "stdout",
     "output_type": "stream",
     "text": [
      "[['S0008', [98, 32, 86], 72.0], ['S0006', [45, 43, 98], 62.0], ['S0009', [65, 32, 85], 60.67], ['S0003', [83, 54, 31], 56.0], ['S0007', [20, 44, 87], 50.33], ['S0004', [90, 32, 21], 47.67], ['S0002', [60, 34, 32], 42.0], ['S0005', [12, 34, 78], 41.33], ['S0010', [23, 90, 10], 41.0], ['S0001', [50, 23, 12], 28.33]]\n"
     ]
    }
   ],
   "source": [
    "g = dataProcess()\n",
    "print (g)"
   ]
  },
  {
   "cell_type": "code",
   "execution_count": 3,
   "metadata": {},
   "outputs": [],
   "source": [
    "!touch ../output/foo.txt"
   ]
  },
  {
   "cell_type": "code",
   "execution_count": 4,
   "metadata": {},
   "outputs": [],
   "source": [
    "# WRITE\n",
    "\n",
    "# python2\n",
    "#fo = open(\"../outputfile/foo.txt\", \"rw\")\n",
    "\n",
    "# in python3 use `r+`\n",
    "# https://docs.python.org/3.3/tutorial/inputoutput.html#reading-and-writing-files\n",
    "fo = open(\"../output/foo.txt\", \"r+\")\n",
    "\n",
    "fo.write (\"hello\\n\")\n",
    "fo.write (\"nick\")\n",
    "\n",
    "fo.close()"
   ]
  },
  {
   "cell_type": "code",
   "execution_count": 5,
   "metadata": {},
   "outputs": [
    {
     "name": "stdout",
     "output_type": "stream",
     "text": [
      "hello\r\n",
      "nick"
     ]
    }
   ],
   "source": [
    "%cat ../output/foo.txt"
   ]
  },
  {
   "cell_type": "code",
   "execution_count": null,
   "metadata": {},
   "outputs": [],
   "source": []
  }
 ],
 "metadata": {
  "kernelspec": {
   "display_name": "Python 3",
   "language": "python",
   "name": "python3"
  },
  "language_info": {
   "codemirror_mode": {
    "name": "ipython",
    "version": 3
   },
   "file_extension": ".py",
   "mimetype": "text/x-python",
   "name": "python",
   "nbconvert_exporter": "python",
   "pygments_lexer": "ipython3",
   "version": "3.6.4"
  }
 },
 "nbformat": 4,
 "nbformat_minor": 2
}
