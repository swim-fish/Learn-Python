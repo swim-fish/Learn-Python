{
 "cells": [
  {
   "cell_type": "code",
   "execution_count": null,
   "metadata": {},
   "outputs": [],
   "source": [
    "#!/usr/bin/env python3\n",
    "# -*- coding: utf-8 -*-\n",
    "\n",
    "# \n",
    "# time\n",
    "# \n",
    "\n",
    "import time\n",
    "time.time()\n",
    "time.localtime()\n",
    "time.asctime()\n",
    "time.asctime(time.localtime())\n",
    "time.sleep(3)\n",
    "\n",
    "import calendar\n",
    "cal = calendar.month(2018,1)\n",
    "print (cal)\n",
    "\n",
    "# \n",
    "# datetime\n",
    "# \n",
    "\n",
    "from datetime import date\n",
    "d = date.today()\n",
    "t = d.timetuple()\n",
    "t\n",
    "for x in t:\n",
    "    print (x)\n",
    "\n",
    "d.isoformat()\n",
    "\n",
    "\n",
    "\n"
   ]
  }
 ],
 "metadata": {},
 "nbformat": 4,
 "nbformat_minor": 2
}
