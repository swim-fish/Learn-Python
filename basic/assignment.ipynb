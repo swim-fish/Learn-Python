{
 "cells": [
  {
   "cell_type": "code",
   "execution_count": null,
   "metadata": {},
   "outputs": [],
   "source": [
    "# +=\n",
    "a = 10\n",
    "sum += a\n",
    "sum = sum + a\n",
    "\n",
    "a++ # ERROR\n",
    "\n",
    "# 同理，*=, /=, %=, **="
   ]
  }
 ],
 "metadata": {},
 "nbformat": 4,
 "nbformat_minor": 2
}
