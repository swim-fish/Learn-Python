{
 "cells": [
  {
   "cell_type": "code",
   "execution_count": null,
   "metadata": {},
   "outputs": [],
   "source": [
    "from sklearn.metrics import confusion_matrix\n",
    "\n",
    "predicted = [0,1,1,0,0] \n",
    "real =      [1,1,1,0,0]\n",
    "cm = confusion_matrix(real, predicted)\n",
    "print ('The confusion metrix is: \\n', cm)\n",
    "# [[2 0]\n",
    "# [1 2]]\n",
    "\n",
    "predicted = [1,1,1,1,0] \n",
    "real =      [1,1,1,0,0]\n",
    "cm = confusion_matrix(real, predicted)\n",
    "print ('The confusion metrix is: \\n', cm)\n",
    "# [[1 1]\n",
    "# [0 3]]\n",
    "\n",
    "tn, fp, fn, tp = confusion_matrix(real, predicted).ravel()\n",
    "print (tn, fp, fn, tp)\n",
    "# 1 1 0 3\n",
    "\n",
    "predicted = [1,1,1,1] \n",
    "real =      [0,0,0,0]\n",
    "cm = confusion_matrix(real, predicted)\n",
    "print ('The confusion metrix is: \\n', cm)\n",
    "\n",
    "real = [2, 0, 2, 2, 0, 1]\n",
    "predicted = [0, 0, 2, 2, 0, 2]\n",
    "cm = confusion_matrix(real, predicted)\n",
    "print ('The confusion metrix is: \\n', cm)"
   ]
  }
 ],
 "metadata": {},
 "nbformat": 4,
 "nbformat_minor": 2
}
