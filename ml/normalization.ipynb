{
 "cells": [
  {
   "cell_type": "code",
   "execution_count": null,
   "metadata": {},
   "outputs": [],
   "source": [
    "from sklearn import preprocessing\n",
    "import matplotlib.pyplot as plt\n",
    "\n",
    "# EXAMPLE 1\n",
    "data = [[100, 0], [100, 0], [0, 1], [0, 1]]\n",
    "scaler = preprocessing.StandardScaler()\n",
    "print(scaler.fit(data))\n",
    "print(scaler.mean_)\n",
    "d2 = scaler.transform(data)\n",
    "print(d2)\n",
    "print(scaler.transform([[199, 2]]))\n",
    "\n",
    "# EXAMPLE2\n",
    "from sklearn.datasets.samples_generator import make_classification\n",
    "\n",
    "X, y = make_classification(n_samples=300, n_features=2 , \n",
    "                           n_redundant=0, n_informative=2,random_state=22, \n",
    "                           n_clusters_per_class=1, scale=(10, 100))\n",
    "\n",
    "plt.figure(figsize=(10,5))\n",
    "plt.subplot(1,2,1)\n",
    "plt.scatter(X[:, 0], X[:, 1], c=y)\n",
    "#plt.show()\n",
    "\n",
    "X = preprocessing.scale(X)\n",
    "plt.subplot(1,2,2)\n",
    "plt.scatter(X[:, 0], X[:, 1], c=y)\n",
    "plt.savefig('images/scale.png')\n",
    "#plt.show()"
   ]
  }
 ],
 "metadata": {},
 "nbformat": 4,
 "nbformat_minor": 2
}
