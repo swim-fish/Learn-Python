{
 "cells": [
  {
   "cell_type": "code",
   "execution_count": null,
   "metadata": {},
   "outputs": [],
   "source": [
    "from sklearn.metrics import precision_recall_fscore_support as score\n",
    "import numpy as np\n",
    "\n",
    "def printMetrics(real, predicted):\n",
    "    precision, recall, fscore, support = score(real, predicted)\n",
    "\n",
    "    print ('pre: ', precision)\n",
    "    print ('rec: ', recall)\n",
    "    print ('f  : ', fscore)\n",
    "    print ('sup: ', support)\n",
    "\n",
    "np.set_printoptions(precision=2)\n",
    "\n",
    "# 謹慎判斷 1\n",
    "predicted = [0,1,1,0,0] \n",
    "real =      [1,1,1,0,0]\n",
    "printMetrics(real, predicted)\n",
    "\n",
    "# 對 1 寬鬆\n",
    "predicted = [1,1,1,1,0] \n",
    "real =      [1,1,1,0,0]\n",
    "printMetrics(real, predicted)\n",
    "\n",
    "predicted = [1,1,1,1] \n",
    "real =      [0,0,0,0]\n",
    "printMetrics(real, predicted)\n",
    "\n",
    "predicted = [1,2,3,4,5,1,2,1,1,4,4] \n",
    "real =      [1,2,3,4,4,1,2,1,1,4,1]\n",
    "printMetrics(real, predicted)\n",
    "\n"
   ]
  }
 ],
 "metadata": {},
 "nbformat": 4,
 "nbformat_minor": 2
}
